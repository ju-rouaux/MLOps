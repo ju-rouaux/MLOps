{
 "cells": [
  {
   "cell_type": "code",
   "execution_count": null,
   "id": "cb9e6352-6189-419c-8689-cc09cbb267c6",
   "metadata": {
    "tags": []
   },
   "outputs": [],
   "source": [
    "from confluent_kafka import Producer\n",
    "import sys\n",
    "\n",
    "# Configuration du producteur\n",
    "conf = {\n",
    "    'bootstrap.servers': 'localhost:9092',  # adresse du broker Kafka\n",
    "    'client.id': 'python-producer'\n",
    "}\n",
    "\n",
    "# Création de l'objet Producteur\n",
    "producer = Producer(conf)\n",
    "\n",
    "# Fonction de callback pour la gestion des erreurs\n",
    "def delivery_report(err, msg):\n",
    "    if err is not None:\n",
    "        print('Erreur lors de l\\'envoi du message: {}'.format(err))\n",
    "    else:\n",
    "        print('Message envoyé avec succès à {} [{}]'.format(msg.topic(), msg.partition()))\n",
    "\n",
    "# Envoi de messages\n",
    "topic = 'test_topic'\n",
    "for i in range(10):\n",
    "    message = f'Message {i}'\n",
    "    producer.produce(topic, message.encode('utf-8'), callback=delivery_report)\n",
    "    producer.poll(0)\n",
    "\n",
    "# Attendre que tous les messages aient été envoyés avant de terminer\n",
    "producer.flush()\n"
   ]
  },
  {
   "cell_type": "code",
   "execution_count": null,
   "id": "cde7b0e5-acd2-47ed-ac43-811f3b7c51b7",
   "metadata": {},
   "outputs": [],
   "source": []
  }
 ],
 "metadata": {
  "kernelspec": {
   "display_name": "Python 3 (ipykernel)",
   "language": "python",
   "name": "python3"
  },
  "language_info": {
   "codemirror_mode": {
    "name": "ipython",
    "version": 3
   },
   "file_extension": ".py",
   "mimetype": "text/x-python",
   "name": "python",
   "nbconvert_exporter": "python",
   "pygments_lexer": "ipython3",
   "version": "3.9.17"
  }
 },
 "nbformat": 4,
 "nbformat_minor": 5
}
